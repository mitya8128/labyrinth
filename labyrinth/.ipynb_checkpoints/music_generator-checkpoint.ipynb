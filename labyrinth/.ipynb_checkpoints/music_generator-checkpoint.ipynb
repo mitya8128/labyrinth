{
 "cells": [
  {
   "cell_type": "code",
   "execution_count": 1,
   "metadata": {},
   "outputs": [
    {
     "name": "stdout",
     "output_type": "stream",
     "text": [
      "\n",
      "WxPython is not found for the current python version.\n",
      "Pyo will use a minimal GUI toolkit written with Tkinter (if available).\n",
      "This toolkit has limited functionnalities and is no more\n",
      "maintained or updated. If you want to use all of pyo's\n",
      "GUI features, you should install WxPython, available here:\n",
      "http://www.wxpython.org/\n",
      "\n",
      "\n",
      "Neither WxPython nor Tkinter are found for the current python version.\n",
      "Pyo's GUI features are disabled. For a complete GUI toolkit, you should\n",
      "consider installing WxPython, available here: http://www.wxpython.org/\n",
      "\n"
     ]
    }
   ],
   "source": [
    "from pyo import *"
   ]
  },
  {
   "cell_type": "code",
   "execution_count": 19,
   "metadata": {},
   "outputs": [
    {
     "data": {
      "text/plain": [
       "<pyo.lib.server.Server at 0x7fed301516a0>"
      ]
     },
     "execution_count": 19,
     "metadata": {},
     "output_type": "execute_result"
    }
   ],
   "source": [
    "s = Server().boot()\n",
    "s.start()"
   ]
  },
  {
   "cell_type": "code",
   "execution_count": 3,
   "metadata": {},
   "outputs": [],
   "source": [
    "t = CosTable([(0, 0), (100, 1), (500, .3), (8191, 0)])\n",
    "beat = Beat(time=.125, taps=16, w1=[90, 80], w2=50, w3=35, poly=1).play()  # try taps=10 and larger poly\n",
    "trmid = TrigXnoiseMidi(beat, dist=12, mrange=(60, 96))\n",
    "trhz = Snap(trmid, choice=[0, 2, 3, 5, 7, 8, 10], scale=1)\n",
    "tr2 = TrigEnv(beat, table=t, dur=beat['dur'], mul=beat['amp'])"
   ]
  },
  {
   "cell_type": "code",
   "execution_count": 20,
   "metadata": {},
   "outputs": [],
   "source": [
    "# modulation sisusoids\n",
    "mod = Sine(freq=50, mul=50)\n",
    "mod2 = Sine(freq=100, mul=50)"
   ]
  },
  {
   "cell_type": "code",
   "execution_count": 5,
   "metadata": {},
   "outputs": [],
   "source": [
    "a = Sine(freq=trhz + mod2, mul=tr2 * 0.2).out()"
   ]
  },
  {
   "cell_type": "code",
   "execution_count": 22,
   "metadata": {},
   "outputs": [],
   "source": [
    "from pyo import *\n",
    "\n",
    "s = Server().boot()\n",
    "s.start()\n",
    "\n",
    "mod = Sine(freq=15, mul=50)\n",
    "mod2 = Sine(freq=100, mul=50)\n",
    "\n",
    "# An event is a tuple (pitch, velocity).\n",
    "events = [(48, 100), (44, 70), (43, 60), (53, 100), (55, 70), (51, 55), (50, 40)]\n",
    "\n",
    "# Rhythmic pattern.\n",
    "rhythmic = [4, 2, 2, 4, 1.33, 1.33, 1.34]\n",
    "\n",
    "# Duration, in seconds, of a value of 1 in the rhythmic pattern.\n",
    "taptime = 0.2\n",
    "\n",
    "# Amplitude envelope.\n",
    "env = CosTable([(0,0), (64, 1), (512, 0.7), (4096, 0.7), (8192,0)])\n",
    "\n",
    "# Sequence of triggers based on the rhythmic pattern.\n",
    "seq = Seq(time=taptime, seq=rhythmic, poly=1, speed=1).play()\n",
    "\n",
    "# Each trigger move forward in the event sequence.\n",
    "freq = Iter(seq, [midiToHz(evt[0]) for evt in events])\n",
    "amp = Iter(seq, [evt[1] / 127. for evt in events])\n",
    "dur = Iter(seq, [tap * taptime for tap in rhythmic])\n",
    "\n",
    "# Triggers the amplitude envelope.\n",
    "shape = TrigEnv(seq, env, dur=dur, mul=amp)\n",
    "\n",
    "# Stereo oscillator.\n",
    "oscL = RCOsc(freq=freq+mod, sharp=0.25, mul=shape).out()\n",
    "oscR = RCOsc(freq=freq*1.001, sharp=0.25, mul=shape).out(1)\n",
    "\n",
    "# s.gui(locals())"
   ]
  }
 ],
 "metadata": {
  "kernelspec": {
   "display_name": "Python 3",
   "language": "python",
   "name": "python3"
  },
  "language_info": {
   "codemirror_mode": {
    "name": "ipython",
    "version": 3
   },
   "file_extension": ".py",
   "mimetype": "text/x-python",
   "name": "python",
   "nbconvert_exporter": "python",
   "pygments_lexer": "ipython3",
   "version": "3.6.9"
  }
 },
 "nbformat": 4,
 "nbformat_minor": 4
}
