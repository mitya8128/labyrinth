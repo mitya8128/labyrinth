{
 "cells": [
  {
   "cell_type": "code",
   "execution_count": 1,
   "metadata": {},
   "outputs": [
    {
     "name": "stdout",
     "output_type": "stream",
     "text": [
      "\n",
      "WxPython is not found for the current python version.\n",
      "Pyo will use a minimal GUI toolkit written with Tkinter (if available).\n",
      "This toolkit has limited functionnalities and is no more\n",
      "maintained or updated. If you want to use all of pyo's\n",
      "GUI features, you should install WxPython, available here:\n",
      "http://www.wxpython.org/\n",
      "\n",
      "\n",
      "Neither WxPython nor Tkinter are found for the current python version.\n",
      "Pyo's GUI features are disabled. For a complete GUI toolkit, you should\n",
      "consider installing WxPython, available here: http://www.wxpython.org/\n",
      "\n"
     ]
    }
   ],
   "source": [
    "from pyo import *"
   ]
  },
  {
   "cell_type": "code",
   "execution_count": 2,
   "metadata": {},
   "outputs": [
    {
     "data": {
      "text/plain": [
       "<pyo.lib.server.Server at 0x7f4ce9931780>"
      ]
     },
     "execution_count": 2,
     "metadata": {},
     "output_type": "execute_result"
    }
   ],
   "source": [
    "s = Server().boot()\n",
    "s.start()"
   ]
  },
  {
   "cell_type": "code",
   "execution_count": 3,
   "metadata": {},
   "outputs": [],
   "source": [
    "t = CosTable([(0, 0), (100, 1), (500, .3), (8191, 0)])\n",
    "beat = Beat(time=.125, taps=16, w1=[90, 80], w2=50, w3=35, poly=1).play()  # try taps=10 and larger poly\n",
    "trmid = TrigXnoiseMidi(beat, dist=12, mrange=(60, 96))\n",
    "trhz = Snap(trmid, choice=[0, 2, 3, 5, 7, 8, 10], scale=1)\n",
    "tr2 = TrigEnv(beat, table=t, dur=beat['dur'], mul=beat['amp'])"
   ]
  },
  {
   "cell_type": "code",
   "execution_count": 4,
   "metadata": {},
   "outputs": [],
   "source": [
    "# modulation sisusoids\n",
    "mod = Sine(freq=50, mul=50)\n",
    "mod2 = Sine(freq=100, mul=50)"
   ]
  },
  {
   "cell_type": "code",
   "execution_count": 5,
   "metadata": {},
   "outputs": [],
   "source": [
    "a = Sine(freq=trhz + mod2, mul=tr2 * 0.2).out()"
   ]
  }
 ],
 "metadata": {
  "kernelspec": {
   "display_name": "Python 3",
   "language": "python",
   "name": "python3"
  },
  "language_info": {
   "codemirror_mode": {
    "name": "ipython",
    "version": 3
   },
   "file_extension": ".py",
   "mimetype": "text/x-python",
   "name": "python",
   "nbconvert_exporter": "python",
   "pygments_lexer": "ipython3",
   "version": "3.6.9"
  }
 },
 "nbformat": 4,
 "nbformat_minor": 4
}
